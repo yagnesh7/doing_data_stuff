{
 "cells": [
  {
   "cell_type": "markdown",
   "metadata": {},
   "source": [
    "# Genius Lyric Pull\n",
    "### This notebook's purpose is to query the Genius Song Search API, extract lyrics, and write them locally.\n",
    "\n",
    "Useful guide:\n",
    "https://dev.to/willamesoares/how-to-integrate-spotify-and-genius-api-to-easily-crawl-song-lyrics-with-python-4o62"
   ]
  },
  {
   "cell_type": "code",
   "execution_count": 1,
   "metadata": {},
   "outputs": [],
   "source": [
    "# Environment\n",
    "import constants # Contains auth token for genius api\n",
    "import requests\n",
    "from bs4 import BeautifulSoup"
   ]
  },
  {
   "cell_type": "code",
   "execution_count": 2,
   "metadata": {},
   "outputs": [],
   "source": [
    "def request_song_info(song_title, artist_name):\n",
    "    base_url = 'https://api.genius.com'\n",
    "    headers = {'Authorization': 'Bearer ' + constants.get_token()}\n",
    "    search_url = base_url + '/search'\n",
    "    data = {'q': song_title + ' ' + artist_name}\n",
    "    response = requests.get(search_url, data=data, headers=headers)\n",
    "\n",
    "    return response"
   ]
  },
  {
   "cell_type": "code",
   "execution_count": 13,
   "metadata": {},
   "outputs": [],
   "source": [
    "# Albums\n",
    "mitski_albums = {\n",
    "    'LUSH': ['Liquid Smooth', 'Wife', 'Abbey', 'Brand New City', 'Eric', 'Bag of Bones', 'Door', 'Pearl Diver'],\n",
    "    'Retired from Sad, New Career in Business': ['Goodbye, My Danish Sweetheart', 'Shame', 'Because Dreaming Costs Money',\n",
    "                                                'Humpty', 'Circle', 'I Want You', 'Square', 'Strawberry Blond',\n",
    "                                                 'Class of 2013'], \n",
    "    'Bury Me at Makeout Creek': ['Texas Reznikoff', 'Townie', 'First Love Late Spring', 'Francis Forever', 'I Don\\'t Smoke',\n",
    "                                'Jobless Monday', 'Drunk Walk Home', 'I Will', 'Carry Me Out',\n",
    "                                 'Last Words of a Shooting Start'],\n",
    "    'Puberty 2': ['Happy', 'Dan the Dancer', 'Once More to See You', 'Fireworks', 'Your Best American Girl',\n",
    "                 'I Bet on Losing Dogs', 'My Body\\'s Made of Crushed Little Stars', 'Thursday Girl', 'A Loving Feeling',\n",
    "                 'Crack Baby', 'A Burning Hill'],\n",
    "    'Be the Cowboy': ['Geyser', 'Why Didn\\'t You Stop Me?', 'Old Friend', 'A Pearl', 'Lonesome Love', 'Remember My Name',\n",
    "                     'Me and My Husband', 'Come into the Water', 'Nobody', 'Pink in the Night', 'A Horse Named Cold Air',\n",
    "                     'Washing Machine Heart', 'Blue Light', 'Two Slow Dancers']\n",
    "}"
   ]
  },
  {
   "cell_type": "code",
   "execution_count": 19,
   "metadata": {},
   "outputs": [
    {
     "name": "stdout",
     "output_type": "stream",
     "text": [
      "Be the Cowboy\n",
      "Geyser\n",
      "Why Didn't You Stop Me?\n",
      "lyrics/be_the_cowboy/Mitski - Be the Cowboy - Why Didn't You Stop Me?.txt\n",
      "Old Friend\n",
      "A Pearl\n",
      "Lonesome Love\n",
      "Remember My Name\n",
      "Me and My Husband\n",
      "Come into the Water\n",
      "Nobody\n",
      "Pink in the Night\n",
      "A Horse Named Cold Air\n",
      "Washing Machine Heart\n",
      "Blue Light\n",
      "Two Slow Dancers\n",
      "Retired from Sad, New Career in Business\n",
      "Goodbye, My Danish Sweetheart\n",
      "Shame\n",
      "Because Dreaming Costs Money\n",
      "Humpty\n",
      "Circle\n",
      "I Want You\n",
      "Square\n",
      "Strawberry Blond\n",
      "Class of 2013\n",
      "Bury Me at Makeout Creek\n",
      "Texas Reznikoff\n",
      "Townie\n",
      "First Love Late Spring\n",
      "lyrics/bury_me_at_makeout_creek/Mitski - Bury Me at Makeout Creek - First LoveLate Spring.txt\n",
      "Francis Forever\n",
      "I Don't Smoke\n",
      "Jobless Monday\n",
      "Drunk Walk Home\n",
      "I Will\n",
      "Carry Me Out\n",
      "Last Words of a Shooting Start\n",
      "LUSH\n",
      "Liquid Smooth\n",
      "Wife\n",
      "Abbey\n",
      "Brand New City\n",
      "Eric\n",
      "Bag of Bones\n",
      "Door\n",
      "Pearl Diver\n",
      "Puberty 2\n",
      "Happy\n",
      "Dan the Dancer\n",
      "Once More to See You\n",
      "Fireworks\n",
      "Your Best American Girl\n",
      "I Bet on Losing Dogs\n",
      "My Body's Made of Crushed Little Stars\n",
      "Thursday Girl\n",
      "A Loving Feeling\n",
      "Crack Baby\n",
      "A Burning Hill\n"
     ]
    }
   ],
   "source": [
    "for album in mitski_albums:\n",
    "    print('Album:' + album)\n",
    "    album_dir = album.lower().replace(' ','_').replace(',','')\n",
    "    for song in mitski_albums[album]:\n",
    "        print(song)\n",
    "        response = request_song_info(song, 'mitski')\n",
    "        json = response.json()\n",
    "        song_list = []\n",
    "        for i in json['response']['hits']:\n",
    "            if i['index'] == 'song':\n",
    "                if i['result']['primary_artist']['name'].lower() == 'Mitski'.lower():\n",
    "                    if i['result']['lyrics_state'] == 'complete':\n",
    "                        song_list.append({'title' : i['result']['title'],\n",
    "                                         'artist' : i['result']['primary_artist']['name'],\n",
    "                                          'url' : i['result']['url']\n",
    "                                         })\n",
    "        for song in song_list:\n",
    "            url = song['url']\n",
    "            page = requests.get(url)\n",
    "            html = BeautifulSoup(page.text, 'html.parser')\n",
    "            lyrics = html.find('div', class_ = 'lyrics').get_text()\n",
    "\n",
    "            try:\n",
    "                with open(\"lyrics/{}/{} - {} - {}.txt\".format(album_dir, song['artist'], album, song['title'].replace('/','')), \"w\") as text_file:\n",
    "                    text_file.write(lyrics)\n",
    "                break\n",
    "            except:\n",
    "                print(\"Failed: lyrics/{}/{} - {} - {}.txt\".format(album_dir, song['artist'], album, song['title'].replace('/','')))   "
   ]
  },
  {
   "cell_type": "markdown",
   "metadata": {},
   "source": [
    "## Sample output for one instance"
   ]
  },
  {
   "cell_type": "code",
   "execution_count": 7,
   "metadata": {},
   "outputs": [],
   "source": [
    "response = request_song_info('Goodbye, My Danish Sweetheart', 'mitski')\n",
    "json = response.json()"
   ]
  },
  {
   "cell_type": "code",
   "execution_count": 8,
   "metadata": {},
   "outputs": [],
   "source": [
    "song_list = []\n",
    "for i in json['response']['hits']:\n",
    "    if i['index'] == 'song':\n",
    "        if i['result']['primary_artist']['name'].lower() == 'Mitski'.lower():\n",
    "            if i['result']['lyrics_state'] == 'complete':\n",
    "                song_list.append({'title' : i['result']['title'],\n",
    "                                 'artist' : i['result']['primary_artist']['name'],\n",
    "                                  'url' : i['result']['url']\n",
    "                                 })\n",
    "\n"
   ]
  },
  {
   "cell_type": "code",
   "execution_count": 21,
   "metadata": {},
   "outputs": [
    {
     "data": {
      "text/plain": [
       "[{'artist': 'Mitski',\n",
       "  'title': 'A Burning Hill',\n",
       "  'url': 'https://genius.com/Mitski-a-burning-hill-lyrics'},\n",
       " {'artist': 'Mitski',\n",
       "  'title': 'Puberty 2 [Tracklist + Album Art]',\n",
       "  'url': 'https://genius.com/Mitski-puberty-2-tracklist-album-art-annotated'}]"
      ]
     },
     "execution_count": 21,
     "metadata": {},
     "output_type": "execute_result"
    }
   ],
   "source": [
    "song_list"
   ]
  },
  {
   "cell_type": "code",
   "execution_count": 10,
   "metadata": {},
   "outputs": [],
   "source": [
    "for song in song_list:\n",
    "    url = song['url']\n",
    "    page = requests.get(url)\n",
    "    html = BeautifulSoup(page.text, 'html.parser')\n",
    "    lyrics = html.find('div', class_ = 'lyrics').get_text()\n",
    "    \n",
    "    try:\n",
    "        with open(\"{} - {}.txt\".format(song['artist'], song['title'].replace('/','')), \"w\") as text_file:\n",
    "            text_file.write(lyrics)\n",
    "        break\n",
    "    except:\n",
    "        print(\"{} - {}.txt failed\".format(song['artist'], song['title'].replace('/',''))) "
   ]
  },
  {
   "cell_type": "code",
   "execution_count": 20,
   "metadata": {},
   "outputs": [
    {
     "name": "stdout",
     "output_type": "stream",
     "text": [
      "\n",
      "\n",
      "Today I will wear my white button-down\n",
      "I'm tired of wanting more\n",
      "I think I'm finally worn\n",
      "For you have a way of promising things\n",
      "And I've been a forest fire\n",
      "I am a forest fire\n",
      "And I am the fire and I am the forest\n",
      "And I am a witness watching it\n",
      "I stand in a valley watching it\n",
      "And you are not there at all\n",
      "\n",
      "So today I will wear my white button-down\n",
      "I can at least be neat\n",
      "Walk out and be seen as clean\n",
      "And I'll go to work and I'll go to sleep\n",
      "And I'll love the littler things\n",
      "I'll love some littler things\n",
      "\n",
      "\n"
     ]
    }
   ],
   "source": [
    "print(lyrics)"
   ]
  },
  {
   "cell_type": "code",
   "execution_count": null,
   "metadata": {},
   "outputs": [],
   "source": []
  }
 ],
 "metadata": {
  "kernelspec": {
   "display_name": "Python 3",
   "language": "python",
   "name": "python3"
  },
  "language_info": {
   "codemirror_mode": {
    "name": "ipython",
    "version": 3
   },
   "file_extension": ".py",
   "mimetype": "text/x-python",
   "name": "python",
   "nbconvert_exporter": "python",
   "pygments_lexer": "ipython3",
   "version": "3.5.5"
  }
 },
 "nbformat": 4,
 "nbformat_minor": 2
}
